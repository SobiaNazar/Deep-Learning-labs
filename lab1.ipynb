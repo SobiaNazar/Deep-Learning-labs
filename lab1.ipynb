{
 "cells": [
  {
   "cell_type": "code",
   "execution_count": 1,
   "id": "4c8b85a3-07d7-411a-b7d7-8207125f1fb9",
   "metadata": {},
   "outputs": [],
   "source": [
    "import tensorflow as tf\n"
   ]
  },
  {
   "cell_type": "code",
   "execution_count": 3,
   "id": "fe73977c-05b0-4ff9-9a9e-75d47f60b0b8",
   "metadata": {},
   "outputs": [
    {
     "name": "stdout",
     "output_type": "stream",
     "text": [
      "Original Tensor:\n",
      "[[1 2 3]\n",
      " [4 5 6]]\n",
      "\n",
      "Result after multiplying by scalar value 2:\n",
      "[[ 2  4  6]\n",
      " [ 8 10 12]]\n"
     ]
    }
   ],
   "source": [
    "#2021f-bse-152 , section:C\n",
    "\n",
    "import tensorflow as tf\n",
    "\n",
    "tensor = tf.constant([[1, 2, 3], [4, 5, 6]])\n",
    "scalar = 2\n",
    "result = tf.multiply(tensor, scalar)\n",
    "\n",
    "print(\"Original Tensor:\")\n",
    "print(tensor.numpy())\n",
    "print(\"\\nResult after multiplying by scalar value {}:\".format(scalar))\n",
    "print(result.numpy())\n"
   ]
  },
  {
   "cell_type": "code",
   "execution_count": 6,
   "id": "8e24ba00-d7c4-4b09-b38b-3e589a395aa5",
   "metadata": {},
   "outputs": [
    {
     "name": "stdout",
     "output_type": "stream",
     "text": [
      "Vector 1: [1 2 3]\n",
      "Vector 2: [4 5 6]\n",
      "Dot Product: 32\n"
     ]
    }
   ],
   "source": [
    "#2021f-bse-152 , section:C\n",
    "\n",
    "import tensorflow as tf\n",
    "\n",
    "vector1 = tf.constant([1, 2, 3])\n",
    "vector2 = tf.constant([4, 5, 6])\n",
    "dot_product = tf.tensordot(vector1, vector2, axes=1)\n",
    "\n",
    "print(\"Vector 1:\", vector1.numpy())\n",
    "print(\"Vector 2:\", vector2.numpy())\n",
    "print(\"Dot Product:\", dot_product.numpy())\n",
    "\n"
   ]
  },
  {
   "cell_type": "code",
   "execution_count": 10,
   "id": "2d8319cb-a4f4-4756-ad45-4ff94d1a67f2",
   "metadata": {},
   "outputs": [
    {
     "name": "stdout",
     "output_type": "stream",
     "text": [
      "Matrix 1:\n",
      "[[1 2]\n",
      " [3 4]]\n",
      "\n",
      "Matrix 2:\n",
      "[[5 6]\n",
      " [7 8]]\n",
      "\n",
      "Addition Result:\n",
      "[[ 6  8]\n",
      " [10 12]]\n",
      "\n",
      "Subtraction Result:\n",
      "[[-4 -4]\n",
      " [-4 -4]]\n",
      "\n",
      "Multiplication Result:\n",
      "[[19 22]\n",
      " [43 50]]\n"
     ]
    }
   ],
   "source": [
    "#2021f-bse-152 , section:C\n",
    "\n",
    "import tensorflow as tf\n",
    "\n",
    "matrix1 = tf.constant([[1, 2],  [3, 4]])\n",
    "matrix2 = tf.constant([[5, 6], [7, 8]])\n",
    "\n",
    "addition_result = tf.add(matrix1, matrix2)\n",
    "subtraction_result = tf.subtract(matrix1, matrix2)\n",
    "matrix_multiplication_result = tf.matmul(matrix1, matrix2)\n",
    "\n",
    "print(\"Matrix 1:\")\n",
    "print(matrix1.numpy())\n",
    "print(\"\\nMatrix 2:\")\n",
    "print(matrix2.numpy())\n",
    "print(\"\\nAddition Result:\")\n",
    "print(addition_result.numpy())\n",
    "print(\"\\nSubtraction Result:\")\n",
    "print(subtraction_result.numpy())\n",
    "print(\"\\nMultiplication Result:\")\n",
    "print(matrix_multiplication_result.numpy())\n",
    "\n",
    "\n"
   ]
  },
  {
   "cell_type": "code",
   "execution_count": null,
   "id": "fa653683-0d96-45c4-992e-ee4514424231",
   "metadata": {},
   "outputs": [],
   "source": []
  }
 ],
 "metadata": {
  "kernelspec": {
   "display_name": "Python 3 (ipykernel)",
   "language": "python",
   "name": "python3"
  },
  "language_info": {
   "codemirror_mode": {
    "name": "ipython",
    "version": 3
   },
   "file_extension": ".py",
   "mimetype": "text/x-python",
   "name": "python",
   "nbconvert_exporter": "python",
   "pygments_lexer": "ipython3",
   "version": "3.8.18"
  }
 },
 "nbformat": 4,
 "nbformat_minor": 5
}
